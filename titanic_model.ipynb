import pandas as pd

# Load the dataset
data = pd.read_csv('data/train.csv')

# View the first 5 rows
data.head()
